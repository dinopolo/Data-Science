{
 "cells": [
  {
   "cell_type": "markdown",
   "metadata": {},
   "source": [
    "# **Os gastos dos Senadores no Brasil**\n",
    "\n",
    "Nesse projeto, será feito uma análise dos gastos dos Senadores do Brasil utilizando os dados das **Cotas para Exercício da Atividade Parlamentar dos Senadores (CEAPS)** (Disponível em: [CEAPS](https://www12.senado.leg.br/transparencia/dados-abertos-transparencia/dados-abertos-ceaps)). Resumidamente, as Cotas para Exercício da Atividade Parlamentar dos Senadores (CEAPS) são uma verba para ressarcimento de despesas dos Senadores, cujo valor total muda de acordo com o Estado de origem do senador. A CEAPS é a soma da verba indenizatória, no valor de R$ 15 mil, mais o valor de cinco trechos aéreos entre Brasília (DF) e a capital do Estado de origem do senador (Para mais informações: [clique aqui](http://politicos.org.br/blog/saiba-tudo-sobre-a-cota-parlamentar))."
   ]
  },
  {
   "cell_type": "markdown",
   "metadata": {},
   "source": [
    "___\n",
    "**Antes de iniciar a análise, um aviso:**\n",
    "> A análise não será focada em quem são os Senadores ou em Partidos Políticos para evitar discussões políticas ou ideológicas. O foco principal será as despesas dos Senadores.\n",
    ">\n",
    "> No entanto, quem se interessar em saber o nome dos Senadores e suas respectivas despesas, essa informação está disponível no conjunto de dados das [CEAPS](https://www12.senado.leg.br/transparencia/dados-abertos-transparencia/dados-abertos-ceaps).\n",
    "___"
   ]
  },
  {
   "cell_type": "markdown",
   "metadata": {},
   "source": [
    "## **Obtenção dos Dados**\n",
    "Os dados foram obtidos diretamente no Portal Transparência (seção *Dados Abertos*) do [site do Senado Federal](https://www12.senado.leg.br/dados-abertos).\n",
    "\n",
    "Os conjuntos de dados disponibilizados são referentes aos anos de 2008 a 2019."
   ]
  },
  {
   "cell_type": "markdown",
   "metadata": {},
   "source": [
    "### **Importando os dados**"
   ]
  },
  {
   "cell_type": "code",
   "execution_count": 1,
   "metadata": {},
   "outputs": [],
   "source": [
    "import pandas as pd\n",
    "import numpy as np\n",
    "import matplotlib.pyplot as plt\n",
    "from IPython.display import display\n",
    "%matplotlib inline\n",
    "\n",
    "df_2019 = pd.read_csv(\"2019.csv\", sep = \";\", encoding = \"latin-1\", header=1, decimal=\",\")\n",
    "df_2018 = pd.read_csv(\"2018.csv\", sep = \";\", encoding = \"latin-1\", header=1, decimal=\",\")\n",
    "df_2017 = pd.read_csv(\"2017.csv\", sep = \";\", encoding = \"latin-1\", header=1, decimal=\",\")\n",
    "df_2016 = pd.read_csv(\"2016.csv\", sep = \";\", encoding = \"latin-1\", header=1, decimal=\",\")\n",
    "df_2015 = pd.read_csv(\"2015.csv\", sep = \";\", encoding = \"latin-1\", header=1, decimal=\",\")\n",
    "df_2014 = pd.read_csv(\"2014.csv\", sep = \";\", encoding = \"latin-1\", header=1, decimal=\",\")\n",
    "df_2013 = pd.read_csv(\"2013.csv\", sep = \";\", encoding = \"latin-1\", header=1, decimal=\",\")\n",
    "df_2012 = pd.read_csv(\"2012.csv\", sep = \";\", encoding = \"latin-1\", header=1, decimal=\",\")\n",
    "df_2011 = pd.read_csv(\"2011.csv\", sep = \";\", encoding = \"latin-1\", header=1, decimal=\",\")\n",
    "df_2010 = pd.read_csv(\"2010.csv\", sep = \";\", encoding = \"latin-1\", header=1, decimal=\",\")\n",
    "df_2009 = pd.read_csv(\"2009.csv\", sep = \";\", encoding = \"latin-1\", header=1, decimal=\",\")\n",
    "df_2008 = pd.read_csv(\"2008.csv\", sep = \";\", encoding = \"latin-1\", header=1, decimal=\",\")"
   ]
  },
  {
   "cell_type": "markdown",
   "metadata": {},
   "source": [
    "## **Análise dos dados**\n",
    "Nesta análise, o foco será o ano de 2019 e, no final, será feito um comparativo dos gastos por ano."
   ]
  },
  {
   "cell_type": "code",
   "execution_count": 2,
   "metadata": {},
   "outputs": [
    {
     "name": "stdout",
     "output_type": "stream",
     "text": [
      "Linhas: 21615\n",
      "Colunas: 10\n"
     ]
    }
   ],
   "source": [
    "# Tamanho do conjunto de dados\n",
    "print(\"Linhas:\", df_2019.shape[0])\n",
    "print(\"Colunas:\", df_2019.shape[1])"
   ]
  },
  {
   "cell_type": "code",
   "execution_count": 3,
   "metadata": {},
   "outputs": [
    {
     "data": {
      "text/plain": [
       "Index(['ANO', 'MES', 'SENADOR', 'TIPO_DESPESA', 'CNPJ_CPF', 'FORNECEDOR',\n",
       "       'DOCUMENTO', 'DATA', 'DETALHAMENTO', 'VALOR_REEMBOLSADO'],\n",
       "      dtype='object')"
      ]
     },
     "execution_count": 3,
     "metadata": {},
     "output_type": "execute_result"
    }
   ],
   "source": [
    "# Verificando os nomes das colunas\n",
    "df_2019.columns"
   ]
  },
  {
   "cell_type": "code",
   "execution_count": 4,
   "metadata": {},
   "outputs": [
    {
     "data": {
      "text/plain": [
       "ANO                    int64\n",
       "MES                    int64\n",
       "SENADOR               object\n",
       "TIPO_DESPESA          object\n",
       "CNPJ_CPF              object\n",
       "FORNECEDOR            object\n",
       "DOCUMENTO             object\n",
       "DATA                  object\n",
       "DETALHAMENTO          object\n",
       "VALOR_REEMBOLSADO    float64\n",
       "dtype: object"
      ]
     },
     "execution_count": 4,
     "metadata": {},
     "output_type": "execute_result"
    }
   ],
   "source": [
    "# Verificando os tipos dos atributos\n",
    "df_2019.dtypes"
   ]
  },
  {
   "cell_type": "code",
   "execution_count": 5,
   "metadata": {},
   "outputs": [
    {
     "data": {
      "text/html": [
       "<div>\n",
       "<style scoped>\n",
       "    .dataframe tbody tr th:only-of-type {\n",
       "        vertical-align: middle;\n",
       "    }\n",
       "\n",
       "    .dataframe tbody tr th {\n",
       "        vertical-align: top;\n",
       "    }\n",
       "\n",
       "    .dataframe thead th {\n",
       "        text-align: right;\n",
       "    }\n",
       "</style>\n",
       "<table border=\"1\" class=\"dataframe\">\n",
       "  <thead>\n",
       "    <tr style=\"text-align: right;\">\n",
       "      <th></th>\n",
       "      <th>ANO</th>\n",
       "      <th>MES</th>\n",
       "      <th>SENADOR</th>\n",
       "      <th>TIPO_DESPESA</th>\n",
       "      <th>CNPJ_CPF</th>\n",
       "      <th>FORNECEDOR</th>\n",
       "      <th>DOCUMENTO</th>\n",
       "      <th>DATA</th>\n",
       "      <th>DETALHAMENTO</th>\n",
       "      <th>VALOR_REEMBOLSADO</th>\n",
       "    </tr>\n",
       "  </thead>\n",
       "  <tbody>\n",
       "    <tr>\n",
       "      <th>0</th>\n",
       "      <td>2019</td>\n",
       "      <td>1</td>\n",
       "      <td>ACIR GURGACZ</td>\n",
       "      <td>Aluguel de imóveis para escritório político, c...</td>\n",
       "      <td>05.914.650/0001-66</td>\n",
       "      <td>ENERGISA</td>\n",
       "      <td>006582758</td>\n",
       "      <td>04/01/2019</td>\n",
       "      <td>Despesa com pagamento de energia elétrica do e...</td>\n",
       "      <td>66.02</td>\n",
       "    </tr>\n",
       "    <tr>\n",
       "      <th>1</th>\n",
       "      <td>2019</td>\n",
       "      <td>1</td>\n",
       "      <td>ACIR GURGACZ</td>\n",
       "      <td>Aluguel de imóveis para escritório político, c...</td>\n",
       "      <td>05.914.650/0001-66</td>\n",
       "      <td>ENERGISA</td>\n",
       "      <td>006582755</td>\n",
       "      <td>04/01/2019</td>\n",
       "      <td>Despesa com pagamento de energia elétrica do e...</td>\n",
       "      <td>139.98</td>\n",
       "    </tr>\n",
       "    <tr>\n",
       "      <th>2</th>\n",
       "      <td>2019</td>\n",
       "      <td>1</td>\n",
       "      <td>ACIR GURGACZ</td>\n",
       "      <td>Aluguel de imóveis para escritório político, c...</td>\n",
       "      <td>004.948.028-63</td>\n",
       "      <td>GILBERTO PISELO DO NASCIMENTO</td>\n",
       "      <td>00119</td>\n",
       "      <td>07/01/2019</td>\n",
       "      <td>Despesa com pagamento de aluguel de imóvel par...</td>\n",
       "      <td>6000.00</td>\n",
       "    </tr>\n",
       "    <tr>\n",
       "      <th>3</th>\n",
       "      <td>2019</td>\n",
       "      <td>1</td>\n",
       "      <td>ACIR GURGACZ</td>\n",
       "      <td>Aluguel de imóveis para escritório político, c...</td>\n",
       "      <td>05.423.963/0001-11</td>\n",
       "      <td>OI MÓVEL S.A.</td>\n",
       "      <td>86161151</td>\n",
       "      <td>25/12/2018</td>\n",
       "      <td>Despesa com pagamento de telefonia para o escr...</td>\n",
       "      <td>316.39</td>\n",
       "    </tr>\n",
       "    <tr>\n",
       "      <th>4</th>\n",
       "      <td>2019</td>\n",
       "      <td>2</td>\n",
       "      <td>ACIR GURGACZ</td>\n",
       "      <td>Aluguel de imóveis para escritório político, c...</td>\n",
       "      <td>05.914.650/0001-66</td>\n",
       "      <td>ENERGISA</td>\n",
       "      <td>007236036</td>\n",
       "      <td>04/02/2019</td>\n",
       "      <td>Despesa com pagamento de energia elétrica para...</td>\n",
       "      <td>99.45</td>\n",
       "    </tr>\n",
       "  </tbody>\n",
       "</table>\n",
       "</div>"
      ],
      "text/plain": [
       "    ANO  MES       SENADOR                                       TIPO_DESPESA  \\\n",
       "0  2019    1  ACIR GURGACZ  Aluguel de imóveis para escritório político, c...   \n",
       "1  2019    1  ACIR GURGACZ  Aluguel de imóveis para escritório político, c...   \n",
       "2  2019    1  ACIR GURGACZ  Aluguel de imóveis para escritório político, c...   \n",
       "3  2019    1  ACIR GURGACZ  Aluguel de imóveis para escritório político, c...   \n",
       "4  2019    2  ACIR GURGACZ  Aluguel de imóveis para escritório político, c...   \n",
       "\n",
       "             CNPJ_CPF                     FORNECEDOR  DOCUMENTO        DATA  \\\n",
       "0  05.914.650/0001-66                       ENERGISA  006582758  04/01/2019   \n",
       "1  05.914.650/0001-66                       ENERGISA  006582755  04/01/2019   \n",
       "2      004.948.028-63  GILBERTO PISELO DO NASCIMENTO      00119  07/01/2019   \n",
       "3  05.423.963/0001-11                  OI MÓVEL S.A.   86161151  25/12/2018   \n",
       "4  05.914.650/0001-66                       ENERGISA  007236036  04/02/2019   \n",
       "\n",
       "                                        DETALHAMENTO  VALOR_REEMBOLSADO  \n",
       "0  Despesa com pagamento de energia elétrica do e...              66.02  \n",
       "1  Despesa com pagamento de energia elétrica do e...             139.98  \n",
       "2  Despesa com pagamento de aluguel de imóvel par...            6000.00  \n",
       "3  Despesa com pagamento de telefonia para o escr...             316.39  \n",
       "4  Despesa com pagamento de energia elétrica para...              99.45  "
      ]
     },
     "execution_count": 5,
     "metadata": {},
     "output_type": "execute_result"
    }
   ],
   "source": [
    "# Verificando as 5 primeiras entradas do conjunto de dados de 2019\n",
    "df_2019.head()"
   ]
  },
  {
   "cell_type": "code",
   "execution_count": 6,
   "metadata": {},
   "outputs": [
    {
     "data": {
      "text/plain": [
       "ANO                  0.000000\n",
       "MES                  0.000000\n",
       "SENADOR              0.000000\n",
       "TIPO_DESPESA         0.000000\n",
       "CNPJ_CPF             0.000000\n",
       "FORNECEDOR           0.000000\n",
       "DOCUMENTO            0.033727\n",
       "DATA                 0.000000\n",
       "DETALHAMENTO         0.394402\n",
       "VALOR_REEMBOLSADO    0.000000\n",
       "dtype: float64"
      ]
     },
     "execution_count": 6,
     "metadata": {},
     "output_type": "execute_result"
    }
   ],
   "source": [
    "# Verificando a porcentagem de valores ausentes (missing values) de cada atributo\n",
    "df_2019.isnull().sum() / df_2019.shape[0]"
   ]
  },
  {
   "cell_type": "markdown",
   "metadata": {},
   "source": [
    "Como podemos perceber há valores ausentes (*missing values*) no conjunto de dados."
   ]
  },
  {
   "cell_type": "markdown",
   "metadata": {},
   "source": [
    "### **Informações Estatísticas sobre dos referentes aos gastos do Senadores**"
   ]
  },
  {
   "cell_type": "markdown",
   "metadata": {},
   "source": [
    "**Resumo estatístico**\n",
    "\n",
    "Para o resumo estatístico, iremos verificar apenas o atributo `VALOR_REEMBOLSADO` (**gastos dos Senadores**, em reais), pois é o único atributo que faz sentido analisar dessa forma."
   ]
  },
  {
   "cell_type": "code",
   "execution_count": 7,
   "metadata": {},
   "outputs": [
    {
     "data": {
      "text/plain": [
       "count    21615.000000\n",
       "mean      1167.331537\n",
       "std       2707.359648\n",
       "min          0.010000\n",
       "25%        123.950000\n",
       "50%        346.500000\n",
       "75%       1332.815000\n",
       "max      79200.000000\n",
       "Name: VALOR_REEMBOLSADO, dtype: float64"
      ]
     },
     "execution_count": 7,
     "metadata": {},
     "output_type": "execute_result"
    }
   ],
   "source": [
    "# Verificando o resumo estatístico dos dados\n",
    "df_2019.VALOR_REEMBOLSADO.describe()"
   ]
  },
  {
   "cell_type": "markdown",
   "metadata": {},
   "source": [
    "Assim, percebe-se que 75% dos valores são de até `1332.81`, portanto avaliando o valor máximo (`max`) é provável que o conjunto de dados possui *outliers*.\n",
    "\n",
    "Sendo assim, iremos fazer o *boxplot* para esse atributo."
   ]
  },
  {
   "cell_type": "code",
   "execution_count": 8,
   "metadata": {},
   "outputs": [
    {
     "data": {
      "image/png": "[encoded data removed]",
      "text/plain": [
       "<Figure size 216x864 with 1 Axes>"
      ]
     },
     "metadata": {
      "needs_background": "light"
     },
     "output_type": "display_data"
    }
   ],
   "source": [
    "# Boxplot\n",
    "df_2019.VALOR_REEMBOLSADO.plot(kind=\"box\", figsize=(3,12));"
   ]
  },
  {
   "cell_type": "markdown",
   "metadata": {},
   "source": [
    "Analisando o *boxplot*, percebemos que, realmente, há *outliers* no atributo `VALOR_REEMBOLSADO`, no entanto, não iremos tratar esses *outliers* pois queremos uma visão mais ampla dos gastos dos Senadores."
   ]
  },
  {
   "cell_type": "markdown",
   "metadata": {},
   "source": [
    "### **Gasto por total por mês do Senadores em 2019**"
   ]
  },
  {
   "cell_type": "code",
   "execution_count": 9,
   "metadata": {},
   "outputs": [
    {
     "name": "stdout",
     "output_type": "stream",
     "text": [
      "O gasto total por mês dos Senadores foi, em reais:\n"
     ]
    },
    {
     "data": {
      "text/plain": [
       "MES\n",
       "1     1598389.68\n",
       "2     1720293.88\n",
       "3     1879841.79\n",
       "4     2036964.21\n",
       "5     2199153.76\n",
       "6     2196522.08\n",
       "7     1882448.80\n",
       "8     2187491.87\n",
       "9     2196617.92\n",
       "10    2500992.24\n",
       "11    2405018.25\n",
       "12    2428136.69\n",
       "Name: VALOR_REEMBOLSADO, dtype: float64"
      ]
     },
     "metadata": {},
     "output_type": "display_data"
    }
   ],
   "source": [
    "# Gasto total por mês dos Senadores\n",
    "print(\"O gasto total por mês dos Senadores foi, em reais:\")\n",
    "display(df_2019.groupby(['MES']).VALOR_REEMBOLSADO.sum())"
   ]
  },
  {
   "cell_type": "code",
   "execution_count": 10,
   "metadata": {},
   "outputs": [
    {
     "data": {
      "image/png": "[encoded data removed]",
      "text/plain": [
       "<Figure size 1080x576 with 1 Axes>"
      ]
     },
     "metadata": {
      "needs_background": "light"
     },
     "output_type": "display_data"
    }
   ],
   "source": [
    "# Visualizando o Gasto total por mês dos Senadores\n",
    "\n",
    "df_2019.groupby(['MES']).VALOR_REEMBOLSADO.sum().plot(kind=\"bar\", figsize=(15,8), rot=0, color=\"orangered\");\n",
    "plt.title(\"Gasto total por mês dos Senadores em 2019\", fontsize=16)\n",
    "plt.xlabel(\"Mês\", fontsize=14);\n",
    "plt.ylabel(\"Gastos (em reais)\", fontsize=14);"
   ]
  },
  {
   "cell_type": "markdown",
   "metadata": {},
   "source": [
    "**Gasto total dos Senadores no ano de 2019**"
   ]
  },
  {
   "cell_type": "code",
   "execution_count": 11,
   "metadata": {},
   "outputs": [
    {
     "name": "stdout",
     "output_type": "stream",
     "text": [
      "O gasto total dos Senadores no ano de 2019 foi, em reais:\n",
      "R$ 25231871.17\n"
     ]
    }
   ],
   "source": [
    "# Gasto total em 2019\n",
    "print(\"O gasto total dos Senadores no ano de 2019 foi, em reais:\")\n",
    "print(\"R$\", df_2019.VALOR_REEMBOLSADO.sum())"
   ]
  },
  {
   "cell_type": "markdown",
   "metadata": {},
   "source": [
    "**Média dos gastos dos Senadores por mês em 2019**"
   ]
  },
  {
   "cell_type": "code",
   "execution_count": 12,
   "metadata": {},
   "outputs": [
    {
     "name": "stdout",
     "output_type": "stream",
     "text": [
      "Média dos gastos dos Senadores por mês:\n",
      "R$ 16556.35\n"
     ]
    }
   ],
   "source": [
    "# Média mensal dos gastos por mês\n",
    "print(\"Média dos gastos dos Senadores por mês:\")\n",
    "print(\"R$\", round((df_2019.VALOR_REEMBOLSADO.sum() / df_2019.MES.nunique()) / df_2019.SENADOR.nunique(), 2))"
   ]
  },
  {
   "cell_type": "markdown",
   "metadata": {},
   "source": [
    "### **Tipos de gastos dos Senadores em 2019**"
   ]
  },
  {
   "cell_type": "code",
   "execution_count": 13,
   "metadata": {},
   "outputs": [
    {
     "data": {
      "text/plain": [
       "Locomoção, hospedagem, alimentação, combustíveis e lubrificantes                                                                                                                                   8548\n",
       "Passagens aéreas, aquáticas e terrestres nacionais                                                                                                                                                 5790\n",
       "Aluguel de imóveis para escritório político, compreendendo despesas concernentes a eles.                                                                                                           4103\n",
       "Aquisição de material de consumo para uso no escritório político, inclusive aquisição ou locação de software, despesas postais, aquisição de publicações, locação de móveis e de equipamentos.     1315\n",
       "Contratação de consultorias, assessorias, pesquisas, trabalhos técnicos e outros serviços de apoio ao exercício do mandato parlamentar                                                              979\n",
       "Divulgação da atividade parlamentar                                                                                                                                                                 860\n",
       "Serviços de Segurança Privada                                                                                                                                                                        20\n",
       "Name: TIPO_DESPESA, dtype: int64"
      ]
     },
     "execution_count": 13,
     "metadata": {},
     "output_type": "execute_result"
    }
   ],
   "source": [
    "# Tipos de gastos dos Senadores\n",
    "df_2019.TIPO_DESPESA.value_counts().sort_values(ascending=False)"
   ]
  },
  {
   "cell_type": "markdown",
   "metadata": {},
   "source": [
    "Assim, podemos perceber que em 2019, os Senadores utilizaram mais o CEAPS em `Locomoção, hospedagem, alimentação, combustíveis e lubrificantes` com um total de `8548`."
   ]
  },
  {
   "cell_type": "markdown",
   "metadata": {},
   "source": [
    "Então, podemos ver o **valor gasto com cada tipo de despesa**:"
   ]
  },
  {
   "cell_type": "code",
   "execution_count": 14,
   "metadata": {},
   "outputs": [
    {
     "data": {
      "text/plain": [
       "TIPO_DESPESA\n",
       "Passagens aéreas, aquáticas e terrestres nacionais                                                                                                                                                 7431270.65\n",
       "Contratação de consultorias, assessorias, pesquisas, trabalhos técnicos e outros serviços de apoio ao exercício do mandato parlamentar                                                             5912962.01\n",
       "Locomoção, hospedagem, alimentação, combustíveis e lubrificantes                                                                                                                                   4451303.51\n",
       "Aluguel de imóveis para escritório político, compreendendo despesas concernentes a eles.                                                                                                           4179564.03\n",
       "Divulgação da atividade parlamentar                                                                                                                                                                2344364.06\n",
       "Aquisição de material de consumo para uso no escritório político, inclusive aquisição ou locação de software, despesas postais, aquisição de publicações, locação de móveis e de equipamentos.      870989.08\n",
       "Serviços de Segurança Privada                                                                                                                                                                        41417.83\n",
       "Name: VALOR_REEMBOLSADO, dtype: float64"
      ]
     },
     "execution_count": 14,
     "metadata": {},
     "output_type": "execute_result"
    }
   ],
   "source": [
    "# Valor com cada tipo de despesa\n",
    "df_2019.groupby(['TIPO_DESPESA']).VALOR_REEMBOLSADO.sum().sort_values(ascending=False)"
   ]
  },
  {
   "cell_type": "markdown",
   "metadata": {},
   "source": [
    "Percebe-se, que em 2019, levando em consideração o valor gasto total por tipo de despesa, os Senadores gastaram em `Passagens aéreas, aquáticas e terrestres nacionais` com um valor total gasto de `R$ 7431270.65` nesse tipo de despesa."
   ]
  },
  {
   "cell_type": "markdown",
   "metadata": {},
   "source": [
    "## **Comparativo dos gastos dos Senadores de 2008 a 2019**"
   ]
  },
  {
   "cell_type": "markdown",
   "metadata": {},
   "source": [
    "Agora, será feito um comparativo do valor total gastos pelos Senadores nos anos de 2008 a 2019."
   ]
  },
  {
   "cell_type": "markdown",
   "metadata": {},
   "source": [
    "Antes dessa análise, precisamos fazer um ajuste no conjunto de dados de 2013:"
   ]
  },
  {
   "cell_type": "code",
   "execution_count": 15,
   "metadata": {},
   "outputs": [],
   "source": [
    "df_2013['VALOR_REEMBOLSADO'] = df_2013['VALOR_REEMBOLSADO'].str.replace(',', '.')"
   ]
  },
  {
   "cell_type": "code",
   "execution_count": 16,
   "metadata": {},
   "outputs": [],
   "source": [
    "df_2013['VALOR_REEMBOLSADO'] = df_2013['VALOR_REEMBOLSADO'].replace(to_replace='1\\r\\n675.55', value='1675.55')"
   ]
  },
  {
   "cell_type": "code",
   "execution_count": 17,
   "metadata": {},
   "outputs": [],
   "source": [
    "df_2013['VALOR_REEMBOLSADO'] = df_2013['VALOR_REEMBOLSADO'].astype(float)"
   ]
  },
  {
   "cell_type": "markdown",
   "metadata": {},
   "source": [
    "Após os ajustes feito no conjunto de dados `df_2013`, iremos montar um novo *DataFrame* (conjunto de dados) para então fazer o comparativo dos gastos dos Senadores por ano."
   ]
  },
  {
   "cell_type": "code",
   "execution_count": 18,
   "metadata": {},
   "outputs": [
    {
     "data": {
      "text/html": [
       "<div>\n",
       "<style scoped>\n",
       "    .dataframe tbody tr th:only-of-type {\n",
       "        vertical-align: middle;\n",
       "    }\n",
       "\n",
       "    .dataframe tbody tr th {\n",
       "        vertical-align: top;\n",
       "    }\n",
       "\n",
       "    .dataframe thead th {\n",
       "        text-align: right;\n",
       "    }\n",
       "</style>\n",
       "<table border=\"1\" class=\"dataframe\">\n",
       "  <thead>\n",
       "    <tr style=\"text-align: right;\">\n",
       "      <th></th>\n",
       "      <th>ano</th>\n",
       "      <th>valor_total</th>\n",
       "    </tr>\n",
       "  </thead>\n",
       "  <tbody>\n",
       "    <tr>\n",
       "      <th>0</th>\n",
       "      <td>2008</td>\n",
       "      <td>11575947.40</td>\n",
       "    </tr>\n",
       "    <tr>\n",
       "      <th>1</th>\n",
       "      <td>2009</td>\n",
       "      <td>11731886.26</td>\n",
       "    </tr>\n",
       "    <tr>\n",
       "      <th>2</th>\n",
       "      <td>2010</td>\n",
       "      <td>10760010.57</td>\n",
       "    </tr>\n",
       "    <tr>\n",
       "      <th>3</th>\n",
       "      <td>2011</td>\n",
       "      <td>19004502.48</td>\n",
       "    </tr>\n",
       "    <tr>\n",
       "      <th>4</th>\n",
       "      <td>2012</td>\n",
       "      <td>23354742.37</td>\n",
       "    </tr>\n",
       "    <tr>\n",
       "      <th>5</th>\n",
       "      <td>2013</td>\n",
       "      <td>24658952.86</td>\n",
       "    </tr>\n",
       "    <tr>\n",
       "      <th>6</th>\n",
       "      <td>2014</td>\n",
       "      <td>22519394.12</td>\n",
       "    </tr>\n",
       "    <tr>\n",
       "      <th>7</th>\n",
       "      <td>2015</td>\n",
       "      <td>24859318.61</td>\n",
       "    </tr>\n",
       "    <tr>\n",
       "      <th>8</th>\n",
       "      <td>2016</td>\n",
       "      <td>25301959.82</td>\n",
       "    </tr>\n",
       "    <tr>\n",
       "      <th>9</th>\n",
       "      <td>2017</td>\n",
       "      <td>26672840.26</td>\n",
       "    </tr>\n",
       "    <tr>\n",
       "      <th>10</th>\n",
       "      <td>2018</td>\n",
       "      <td>25604701.33</td>\n",
       "    </tr>\n",
       "    <tr>\n",
       "      <th>11</th>\n",
       "      <td>2019</td>\n",
       "      <td>25231871.17</td>\n",
       "    </tr>\n",
       "  </tbody>\n",
       "</table>\n",
       "</div>"
      ],
      "text/plain": [
       "     ano  valor_total\n",
       "0   2008  11575947.40\n",
       "1   2009  11731886.26\n",
       "2   2010  10760010.57\n",
       "3   2011  19004502.48\n",
       "4   2012  23354742.37\n",
       "5   2013  24658952.86\n",
       "6   2014  22519394.12\n",
       "7   2015  24859318.61\n",
       "8   2016  25301959.82\n",
       "9   2017  26672840.26\n",
       "10  2018  25604701.33\n",
       "11  2019  25231871.17"
      ]
     },
     "metadata": {},
     "output_type": "display_data"
    }
   ],
   "source": [
    "# Ajustando um novo DataFrame para os dados\n",
    "d = {'ano': [2008, 2009, 2010, 2011, 2012, 2013, 2014, 2015, 2016, 2017, 2018, 2019], 'valor_total': [df_2008.VALOR_REEMBOLSADO.sum(), df_2009.VALOR_REEMBOLSADO.sum(), \n",
    "                                                                                                          df_2010.VALOR_REEMBOLSADO.sum(), df_2011.VALOR_REEMBOLSADO.sum(), \n",
    "                                                                                                         df_2012.VALOR_REEMBOLSADO.sum(), df_2013.VALOR_REEMBOLSADO.sum(), \n",
    "                                                                                                         df_2014.VALOR_REEMBOLSADO.sum(), df_2015.VALOR_REEMBOLSADO.sum(), \n",
    "                                                                                                         df_2016.VALOR_REEMBOLSADO.sum(), df_2017.VALOR_REEMBOLSADO.sum(),\n",
    "                                                                                                         df_2018.VALOR_REEMBOLSADO.sum(), df_2019.VALOR_REEMBOLSADO.sum()]}\n",
    "\n",
    "df_tot = pd.DataFrame(data=d)\n",
    "\n",
    "pd.set_option('display.float_format', lambda x: '%.2f' % x)\n",
    "display(df_tot)"
   ]
  },
  {
   "cell_type": "markdown",
   "metadata": {},
   "source": [
    "**Visualização dos gastos dos Senadores de 2008 a 2019**"
   ]
  },
  {
   "cell_type": "code",
   "execution_count": 20,
   "metadata": {},
   "outputs": [
    {
     "data": {
      "image/png": "[encoded data removed]",
      "text/plain": [
       "<Figure size 1080x576 with 1 Axes>"
      ]
     },
     "metadata": {
      "needs_background": "light"
     },
     "output_type": "display_data"
    }
   ],
   "source": [
    "# Plotando os gastos de 2008 a 2019\n",
    "plt.figure(figsize=(15,8))\n",
    "\n",
    "ax = plt.gca()\n",
    "ax.bar(df_tot.ano, df_tot.valor_total, color=\"orangered\", width=0.6);\n",
    "ax.plot(df_tot.ano, df_tot.valor_total, color=\"darkgreen\", linewidth=3);\n",
    "\n",
    "plt.title(\"Gastos dos Senadores por ano\", fontsize=16);\n",
    "plt.xlabel(\"Ano\", fontsize=14);\n",
    "plt.ylabel(\"Gastos (em reais)\", fontsize=14);\n",
    "plt.xticks(df_tot.ano);\n",
    "plt.ticklabel_format(style='plain', axis='y');"
   ]
  },
  {
   "cell_type": "markdown",
   "metadata": {},
   "source": [
    "Visualizando o gráfico de barras percebe-se que de 2010 para 2011 os gastos dos Senadores, praticamente, dobraram e partir de 2014 os gastos ficaram, relativamente, estáveis."
   ]
  },
  {
   "cell_type": "markdown",
   "metadata": {},
   "source": [
    "## **Considerações finais**"
   ]
  },
  {
   "cell_type": "markdown",
   "metadata": {},
   "source": [
    "- Em 2019, os Senadores tiveram um **gasto total de R$ 25231871.17** utilizando as Cotas para Exercício da Atividade Parlamentar dos Senadores (CEAPS).\n",
    "- Em 2019, percebe-se os maiores gastos dos Senadores foram Outubro, Novembro e Dezembro, atingindo o seu pico em **Outubro** com **2500992.24 reais**.\n",
    "- A **média mensal** que cada **Senador gastou** por mês foi de **16556.35 reais**.\n",
    "- De 2010 para 2011 os gastos dos Senadores praticamente dobraram, tendo um **aumento** de mais de **76%**.\n",
    "- O tipo de despesa em que os Senadores mais gastam é `Passagens aéreas, aquáticas e terrestres nacionais`, no entanto a que mais utilizam é para `Locomoção, hospedagem, alimentação, combustíveis e lubrificantes`."
   ]
  },
  {
   "cell_type": "markdown",
   "metadata": {},
   "source": [
    "## ***Reflexão***\n",
    "> Será que é, realmente, importante que os Senadores tenham todos esses gastos, sendo que esse dinheiro vem dos impostos que pagamos e poderiam ser investidos em coisas que, de fato, iriam auxiliar nós, a população?"
   ]
  }
 ],
 "metadata": {
  "kernelspec": {
   "display_name": "Python 3",
   "language": "python",
   "name": "python3"
  },
  "language_info": {
   "codemirror_mode": {
    "name": "ipython",
    "version": 3
   },
   "file_extension": ".py",
   "mimetype": "text/x-python",
   "name": "python",
   "nbconvert_exporter": "python",
   "pygments_lexer": "ipython3",
   "version": "3.7.4"
  }
 },
 "nbformat": 4,
 "nbformat_minor": 4
}
