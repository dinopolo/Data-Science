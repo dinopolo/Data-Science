{
 "cells": [
  {
   "cell_type": "markdown",
   "metadata": {},
   "source": [
    "# **Análise exploratória para o conjunto de dados: Produção de carne de frango no mundo**"
   ]
  },
  {
   "cell_type": "markdown",
   "metadata": {},
   "source": [
    "**Importando as bibliotecas:**"
   ]
  },
  {
   "cell_type": "code",
   "execution_count": 1,
   "metadata": {},
   "outputs": [],
   "source": [
    "import pandas as pd"
   ]
  },
  {
   "cell_type": "markdown",
   "metadata": {},
   "source": [
    "**Carregando o conjunto de dados:**"
   ]
  },
  {
   "cell_type": "code",
   "execution_count": 2,
   "metadata": {},
   "outputs": [],
   "source": [
    "df = pd.read_csv(\"https://raw.githubusercontent.com/dinopolo/Datasets/master/chicken-meat-production.csv\")"
   ]
  },
  {
   "cell_type": "markdown",
   "metadata": {},
   "source": [
    "**Visualizando as 5 primeiras entradas do conjunto de dados:**"
   ]
  },
  {
   "cell_type": "code",
   "execution_count": 3,
   "metadata": {},
   "outputs": [
    {
     "data": {
      "text/html": [
       "<div>\n",
       "<style scoped>\n",
       "    .dataframe tbody tr th:only-of-type {\n",
       "        vertical-align: middle;\n",
       "    }\n",
       "\n",
       "    .dataframe tbody tr th {\n",
       "        vertical-align: top;\n",
       "    }\n",
       "\n",
       "    .dataframe thead th {\n",
       "        text-align: right;\n",
       "    }\n",
       "</style>\n",
       "<table border=\"1\" class=\"dataframe\">\n",
       "  <thead>\n",
       "    <tr style=\"text-align: right;\">\n",
       "      <th></th>\n",
       "      <th>Entity</th>\n",
       "      <th>Code</th>\n",
       "      <th>Year</th>\n",
       "      <th>Livestock Primary - Meat, chicken - 1058 - Production - 5510 - tonnes (tonnes)</th>\n",
       "    </tr>\n",
       "  </thead>\n",
       "  <tbody>\n",
       "    <tr>\n",
       "      <th>0</th>\n",
       "      <td>Afghanistan</td>\n",
       "      <td>AFG</td>\n",
       "      <td>1961</td>\n",
       "      <td>5600</td>\n",
       "    </tr>\n",
       "    <tr>\n",
       "      <th>1</th>\n",
       "      <td>Afghanistan</td>\n",
       "      <td>AFG</td>\n",
       "      <td>1962</td>\n",
       "      <td>6000</td>\n",
       "    </tr>\n",
       "    <tr>\n",
       "      <th>2</th>\n",
       "      <td>Afghanistan</td>\n",
       "      <td>AFG</td>\n",
       "      <td>1963</td>\n",
       "      <td>6160</td>\n",
       "    </tr>\n",
       "    <tr>\n",
       "      <th>3</th>\n",
       "      <td>Afghanistan</td>\n",
       "      <td>AFG</td>\n",
       "      <td>1964</td>\n",
       "      <td>6400</td>\n",
       "    </tr>\n",
       "    <tr>\n",
       "      <th>4</th>\n",
       "      <td>Afghanistan</td>\n",
       "      <td>AFG</td>\n",
       "      <td>1965</td>\n",
       "      <td>6800</td>\n",
       "    </tr>\n",
       "  </tbody>\n",
       "</table>\n",
       "</div>"
      ],
      "text/plain": [
       "        Entity Code  Year  \\\n",
       "0  Afghanistan  AFG  1961   \n",
       "1  Afghanistan  AFG  1962   \n",
       "2  Afghanistan  AFG  1963   \n",
       "3  Afghanistan  AFG  1964   \n",
       "4  Afghanistan  AFG  1965   \n",
       "\n",
       "   Livestock Primary - Meat, chicken - 1058 - Production - 5510 - tonnes (tonnes)  \n",
       "0                                               5600                               \n",
       "1                                               6000                               \n",
       "2                                               6160                               \n",
       "3                                               6400                               \n",
       "4                                               6800                               "
      ]
     },
     "execution_count": 3,
     "metadata": {},
     "output_type": "execute_result"
    }
   ],
   "source": [
    "df.head()"
   ]
  },
  {
   "cell_type": "markdown",
   "metadata": {},
   "source": [
    "**Dimensões do conjunto de dados:**"
   ]
  },
  {
   "cell_type": "code",
   "execution_count": 4,
   "metadata": {},
   "outputs": [
    {
     "name": "stdout",
     "output_type": "stream",
     "text": [
      "Quantidade de entradas (linhas):\t13209\n",
      "Quantidade de atributos (colunas):\t4\n"
     ]
    }
   ],
   "source": [
    "print(\"Quantidade de entradas (linhas):\\t{}\".format(df.shape[0]))\n",
    "print(\"Quantidade de atributos (colunas):\\t{}\".format(df.shape[1]))"
   ]
  },
  {
   "cell_type": "markdown",
   "metadata": {},
   "source": [
    "**Tipo de cada atributo:**"
   ]
  },
  {
   "cell_type": "code",
   "execution_count": 5,
   "metadata": {},
   "outputs": [
    {
     "data": {
      "text/plain": [
       "Entity                                                                            object\n",
       "Code                                                                              object\n",
       "Year                                                                               int64\n",
       "Livestock Primary - Meat, chicken - 1058 - Production - 5510 - tonnes (tonnes)     int64\n",
       "dtype: object"
      ]
     },
     "execution_count": 5,
     "metadata": {},
     "output_type": "execute_result"
    }
   ],
   "source": [
    "df.dtypes"
   ]
  },
  {
   "cell_type": "markdown",
   "metadata": {},
   "source": [
    "**Renomeando o atributo: *Livestock Primary - Meat, chicken - 1058 - Production - 5510 - tonnes (tonnes)***"
   ]
  },
  {
   "cell_type": "code",
   "execution_count": 6,
   "metadata": {},
   "outputs": [
    {
     "data": {
      "text/plain": [
       "Index(['Entity', 'Code', 'Year', 'Meat_production'], dtype='object')"
      ]
     },
     "execution_count": 6,
     "metadata": {},
     "output_type": "execute_result"
    }
   ],
   "source": [
    "df.rename(columns={'Livestock Primary - Meat, chicken - 1058 - Production - 5510 - tonnes (tonnes)': 'Meat_production'}, inplace=True)\n",
    "df.columns"
   ]
  },
  {
   "cell_type": "markdown",
   "metadata": {},
   "source": [
    "**Verificando a presença de valores ausentes:**"
   ]
  },
  {
   "cell_type": "code",
   "execution_count": 7,
   "metadata": {},
   "outputs": [
    {
     "data": {
      "text/plain": [
       "Entity              0.00\n",
       "Code               14.53\n",
       "Year                0.00\n",
       "Meat_production     0.00\n",
       "dtype: float64"
      ]
     },
     "execution_count": 7,
     "metadata": {},
     "output_type": "execute_result"
    }
   ],
   "source": [
    "round((df.isnull().sum() / df.shape[0]) * 100, 2)"
   ]
  },
  {
   "cell_type": "markdown",
   "metadata": {},
   "source": [
    "Percebe-se que há 14,53% de valores ausentes no atributo `Code` do conjunto de dados, no entanto esse atributo não será utilizado na análise explanatória, portanto não iremos fazer o tratamento desses valores."
   ]
  },
  {
   "cell_type": "markdown",
   "metadata": {},
   "source": [
    "Agora vamos verificar qual são as entradas que apresentam valores ausentes:"
   ]
  },
  {
   "cell_type": "code",
   "execution_count": 8,
   "metadata": {},
   "outputs": [
    {
     "data": {
      "text/plain": [
       "array(['Africa', 'Americas', 'Asia', 'Asia, Central',\n",
       "       'Australia & New Zealand', 'Belgium-Luxembourg', 'Caribbean',\n",
       "       'Central America', 'Eastern Africa', 'Eastern Asia',\n",
       "       'Eastern Europe', 'Ethiopia PDR', 'Europe', 'Europe, Western',\n",
       "       'European Union', 'Land Locked Developing Countries',\n",
       "       'Least Developed Countries', 'Low Income Food Deficit Countries',\n",
       "       'Micronesia (region)', 'Middle Africa',\n",
       "       'Net Food Importing Developing Countries', 'Northern Africa',\n",
       "       'Northern America', 'Northern Europe', 'Oceania',\n",
       "       'Pacific Islands Trust Territory',\n",
       "       'Small island developing States', 'South America',\n",
       "       'South Eastern Asia', 'Southern Africa', 'Southern Asia',\n",
       "       'Southern Europe', 'Sudan (former)', 'Western Africa',\n",
       "       'Western Asia'], dtype=object)"
      ]
     },
     "execution_count": 8,
     "metadata": {},
     "output_type": "execute_result"
    }
   ],
   "source": [
    "df.loc[df.Code.isnull()].Entity.unique()"
   ]
  },
  {
   "cell_type": "markdown",
   "metadata": {},
   "source": [
    "Como podemos perceber, os valores ausentes de `Code` representam continentes, união de países, regiões ou países extintos que não possuem código. Sendo assim, para essa análise a produção dessas entidades não nos interessa, com isso vamos eliminar essas entradas com valores ausentes do nosso conjunto de dados:"
   ]
  },
  {
   "cell_type": "code",
   "execution_count": 9,
   "metadata": {},
   "outputs": [],
   "source": [
    "df = df.dropna()"
   ]
  },
  {
   "cell_type": "markdown",
   "metadata": {},
   "source": [
    "Verificando se os valores ausentes foram retirados:"
   ]
  },
  {
   "cell_type": "code",
   "execution_count": 10,
   "metadata": {},
   "outputs": [
    {
     "data": {
      "text/plain": [
       "Entity             0.0\n",
       "Code               0.0\n",
       "Year               0.0\n",
       "Meat_production    0.0\n",
       "dtype: float64"
      ]
     },
     "execution_count": 10,
     "metadata": {},
     "output_type": "execute_result"
    }
   ],
   "source": [
    "round((df.isnull().sum() / df.shape[0]) * 100, 2)"
   ]
  },
  {
   "cell_type": "markdown",
   "metadata": {},
   "source": [
    "**Exportando o conjunto de dados após a realização do tratamento:**"
   ]
  },
  {
   "cell_type": "code",
   "execution_count": 11,
   "metadata": {},
   "outputs": [],
   "source": [
    "compression_opts = dict(method='zip', archive_name='chicken_meat_production_clean.csv')  \n",
    "\n",
    "df.to_csv('out.zip', index=False, compression=compression_opts)"
   ]
  }
 ],
 "metadata": {
  "kernelspec": {
   "display_name": "Python 3",
   "language": "python",
   "name": "python3"
  },
  "language_info": {
   "codemirror_mode": {
    "name": "ipython",
    "version": 3
   },
   "file_extension": ".py",
   "mimetype": "text/x-python",
   "name": "python",
   "nbconvert_exporter": "python",
   "pygments_lexer": "ipython3",
   "version": "3.7.4"
  }
 },
 "nbformat": 4,
 "nbformat_minor": 4
}
